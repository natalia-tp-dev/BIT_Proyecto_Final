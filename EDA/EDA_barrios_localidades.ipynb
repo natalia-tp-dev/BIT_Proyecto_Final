{
 "cells": [
  {
   "cell_type": "markdown",
   "id": "abab6d5b",
   "metadata": {},
   "source": [
    "# LIMPIEZA DE DATOS\n",
    "## En esta fase de trabajo, analizaremos el dataset que tenemos disponible y pretendemos limpiar sus datos lo máximo posible para ejercer una correcta manipulación sobre ellos."
   ]
  },
  {
   "cell_type": "markdown",
   "id": "4a9e1852",
   "metadata": {},
   "source": [
    "### Primeramente realizamos la importacion de la libreria de pandas para crea el dataset segun el archivo csv que tenemos."
   ]
  },
  {
   "cell_type": "code",
   "execution_count": 6,
   "id": "ef9efafd",
   "metadata": {},
   "outputs": [
    {
     "data": {
      "text/html": [
       "<div>\n",
       "<style scoped>\n",
       "    .dataframe tbody tr th:only-of-type {\n",
       "        vertical-align: middle;\n",
       "    }\n",
       "\n",
       "    .dataframe tbody tr th {\n",
       "        vertical-align: top;\n",
       "    }\n",
       "\n",
       "    .dataframe thead th {\n",
       "        text-align: right;\n",
       "    }\n",
       "</style>\n",
       "<table border=\"1\" class=\"dataframe\">\n",
       "  <thead>\n",
       "    <tr style=\"text-align: right;\">\n",
       "      <th></th>\n",
       "      <th>Localidad</th>\n",
       "      <th>UPZ</th>\n",
       "      <th>Barrio</th>\n",
       "    </tr>\n",
       "  </thead>\n",
       "  <tbody>\n",
       "    <tr>\n",
       "      <th>0</th>\n",
       "      <td>Usaquén</td>\n",
       "      <td>Paseo de los Libertadores (01)</td>\n",
       "      <td>Canaima</td>\n",
       "    </tr>\n",
       "    <tr>\n",
       "      <th>1</th>\n",
       "      <td>Usaquén</td>\n",
       "      <td>Paseo de los Libertadores (01)</td>\n",
       "      <td>La Floresta de La Sabana</td>\n",
       "    </tr>\n",
       "    <tr>\n",
       "      <th>2</th>\n",
       "      <td>Usaquén</td>\n",
       "      <td>Paseo de los Libertadores (01)</td>\n",
       "      <td>Torca</td>\n",
       "    </tr>\n",
       "    <tr>\n",
       "      <th>3</th>\n",
       "      <td>Usaquén</td>\n",
       "      <td>Verbenal (09)</td>\n",
       "      <td>Altos de Serrezuela</td>\n",
       "    </tr>\n",
       "    <tr>\n",
       "      <th>4</th>\n",
       "      <td>Usaquén</td>\n",
       "      <td>Verbenal (09)</td>\n",
       "      <td>Balcones de Vista Hermosa</td>\n",
       "    </tr>\n",
       "  </tbody>\n",
       "</table>\n",
       "</div>"
      ],
      "text/plain": [
       "  Localidad                             UPZ                     Barrio\n",
       "0   Usaquén  Paseo de los Libertadores (01)                    Canaima\n",
       "1   Usaquén  Paseo de los Libertadores (01)   La Floresta de La Sabana\n",
       "2   Usaquén  Paseo de los Libertadores (01)                      Torca\n",
       "3   Usaquén                   Verbenal (09)        Altos de Serrezuela\n",
       "4   Usaquén                   Verbenal (09)  Balcones de Vista Hermosa"
      ]
     },
     "execution_count": 6,
     "metadata": {},
     "output_type": "execute_result"
    }
   ],
   "source": [
    "import pandas as pd\n",
    "\n",
    "data = pd.read_csv('../data/barrios_bogota_localidades.csv')\n",
    "df_barrios = pd.DataFrame(data)\n",
    "\n",
    "df_barrios.head()"
   ]
  },
  {
   "cell_type": "markdown",
   "id": "3ea1a375",
   "metadata": {},
   "source": [
    "- Mostramos las primeras y ultimas filas del dataset"
   ]
  },
  {
   "cell_type": "code",
   "execution_count": 7,
   "id": "e57c1dc2",
   "metadata": {},
   "outputs": [
    {
     "data": {
      "text/html": [
       "<div>\n",
       "<style scoped>\n",
       "    .dataframe tbody tr th:only-of-type {\n",
       "        vertical-align: middle;\n",
       "    }\n",
       "\n",
       "    .dataframe tbody tr th {\n",
       "        vertical-align: top;\n",
       "    }\n",
       "\n",
       "    .dataframe thead th {\n",
       "        text-align: right;\n",
       "    }\n",
       "</style>\n",
       "<table border=\"1\" class=\"dataframe\">\n",
       "  <thead>\n",
       "    <tr style=\"text-align: right;\">\n",
       "      <th></th>\n",
       "      <th>Localidad</th>\n",
       "      <th>UPZ</th>\n",
       "      <th>Barrio</th>\n",
       "    </tr>\n",
       "  </thead>\n",
       "  <tbody>\n",
       "    <tr>\n",
       "      <th>0</th>\n",
       "      <td>Usaquén</td>\n",
       "      <td>Paseo de los Libertadores (01)</td>\n",
       "      <td>Canaima</td>\n",
       "    </tr>\n",
       "    <tr>\n",
       "      <th>1</th>\n",
       "      <td>Usaquén</td>\n",
       "      <td>Paseo de los Libertadores (01)</td>\n",
       "      <td>La Floresta de La Sabana</td>\n",
       "    </tr>\n",
       "    <tr>\n",
       "      <th>2</th>\n",
       "      <td>Usaquén</td>\n",
       "      <td>Paseo de los Libertadores (01)</td>\n",
       "      <td>Torca</td>\n",
       "    </tr>\n",
       "    <tr>\n",
       "      <th>3</th>\n",
       "      <td>Usaquén</td>\n",
       "      <td>Verbenal (09)</td>\n",
       "      <td>Altos de Serrezuela</td>\n",
       "    </tr>\n",
       "    <tr>\n",
       "      <th>4</th>\n",
       "      <td>Usaquén</td>\n",
       "      <td>Verbenal (09)</td>\n",
       "      <td>Balcones de Vista Hermosa</td>\n",
       "    </tr>\n",
       "  </tbody>\n",
       "</table>\n",
       "</div>"
      ],
      "text/plain": [
       "  Localidad                             UPZ                     Barrio\n",
       "0   Usaquén  Paseo de los Libertadores (01)                    Canaima\n",
       "1   Usaquén  Paseo de los Libertadores (01)   La Floresta de La Sabana\n",
       "2   Usaquén  Paseo de los Libertadores (01)                      Torca\n",
       "3   Usaquén                   Verbenal (09)        Altos de Serrezuela\n",
       "4   Usaquén                   Verbenal (09)  Balcones de Vista Hermosa"
      ]
     },
     "metadata": {},
     "output_type": "display_data"
    },
    {
     "data": {
      "text/html": [
       "<div>\n",
       "<style scoped>\n",
       "    .dataframe tbody tr th:only-of-type {\n",
       "        vertical-align: middle;\n",
       "    }\n",
       "\n",
       "    .dataframe tbody tr th {\n",
       "        vertical-align: top;\n",
       "    }\n",
       "\n",
       "    .dataframe thead th {\n",
       "        text-align: right;\n",
       "    }\n",
       "</style>\n",
       "<table border=\"1\" class=\"dataframe\">\n",
       "  <thead>\n",
       "    <tr style=\"text-align: right;\">\n",
       "      <th></th>\n",
       "      <th>Localidad</th>\n",
       "      <th>UPZ</th>\n",
       "      <th>Barrio</th>\n",
       "    </tr>\n",
       "  </thead>\n",
       "  <tbody>\n",
       "    <tr>\n",
       "      <th>1998</th>\n",
       "      <td>Ciudad Bolívar</td>\n",
       "      <td>Jerusalén (UPZ 70)</td>\n",
       "      <td>Paraíso</td>\n",
       "    </tr>\n",
       "    <tr>\n",
       "      <th>1999</th>\n",
       "      <td>Ciudad Bolívar</td>\n",
       "      <td>Jerusalén (UPZ 70)</td>\n",
       "      <td>Potosí</td>\n",
       "    </tr>\n",
       "    <tr>\n",
       "      <th>2000</th>\n",
       "      <td>Ciudad Bolívar</td>\n",
       "      <td>Jerusalén (UPZ 70)</td>\n",
       "      <td>Tanque Laguna</td>\n",
       "    </tr>\n",
       "    <tr>\n",
       "      <th>2001</th>\n",
       "      <td>Ciudad Bolívar</td>\n",
       "      <td>Jerusalén (UPZ 70)</td>\n",
       "      <td>Verona</td>\n",
       "    </tr>\n",
       "    <tr>\n",
       "      <th>2002</th>\n",
       "      <td>Ciudad Bolívar</td>\n",
       "      <td>Jerusalén (UPZ 70)</td>\n",
       "      <td>Villas de Bolívar</td>\n",
       "    </tr>\n",
       "  </tbody>\n",
       "</table>\n",
       "</div>"
      ],
      "text/plain": [
       "           Localidad                 UPZ             Barrio\n",
       "1998  Ciudad Bolívar  Jerusalén (UPZ 70)            Paraíso\n",
       "1999  Ciudad Bolívar  Jerusalén (UPZ 70)             Potosí\n",
       "2000  Ciudad Bolívar  Jerusalén (UPZ 70)      Tanque Laguna\n",
       "2001  Ciudad Bolívar  Jerusalén (UPZ 70)             Verona\n",
       "2002  Ciudad Bolívar  Jerusalén (UPZ 70)  Villas de Bolívar"
      ]
     },
     "metadata": {},
     "output_type": "display_data"
    }
   ],
   "source": [
    "primeras_filas = df_barrios.head()\n",
    "ultimas_filas = df_barrios.tail()\n",
    "\n",
    "display(primeras_filas)\n",
    "display(ultimas_filas)"
   ]
  },
  {
   "cell_type": "markdown",
   "id": "292fe98f",
   "metadata": {},
   "source": [
    "- Verificamos el numero de filas y columnas\n",
    "##### Observamos que el dataset tiene un gran volumen de datos, sin embargo, posee pocas variables a analizar."
   ]
  },
  {
   "cell_type": "code",
   "execution_count": 8,
   "id": "5664367b",
   "metadata": {},
   "outputs": [
    {
     "data": {
      "text/plain": [
       "'El numero de filas es : 2003 y el numero de columnas es : 3.'"
      ]
     },
     "execution_count": 8,
     "metadata": {},
     "output_type": "execute_result"
    }
   ],
   "source": [
    "tam = f\"El numero de filas es : {df_barrios.shape[0]} y el numero de columnas es : {df_barrios.shape[1]}.\"\n",
    "tam"
   ]
  },
  {
   "cell_type": "markdown",
   "id": "03afc1f6",
   "metadata": {},
   "source": [
    "- Obtener información general del dataset (`.info()`).\n",
    "##### Observamos que no tenemos valores nulos y los datos se encuentran bien tipificados."
   ]
  },
  {
   "cell_type": "code",
   "execution_count": 9,
   "id": "d1b86947",
   "metadata": {},
   "outputs": [
    {
     "name": "stdout",
     "output_type": "stream",
     "text": [
      "<class 'pandas.core.frame.DataFrame'>\n",
      "RangeIndex: 2003 entries, 0 to 2002\n",
      "Data columns (total 3 columns):\n",
      " #   Column     Non-Null Count  Dtype \n",
      "---  ------     --------------  ----- \n",
      " 0   Localidad  2003 non-null   object\n",
      " 1   UPZ        2003 non-null   object\n",
      " 2   Barrio     2003 non-null   object\n",
      "dtypes: object(3)\n",
      "memory usage: 47.1+ KB\n"
     ]
    }
   ],
   "source": [
    "info = df_barrios.info()\n",
    "info"
   ]
  },
  {
   "cell_type": "markdown",
   "id": "34c94742",
   "metadata": {},
   "source": [
    "- Revisar si hay filas duplicadas y decidir qué hacer con ellas.\n",
    "##### Tenemos 11 duplicados, asi que procedemos a darles tratamiento."
   ]
  },
  {
   "cell_type": "code",
   "execution_count": 10,
   "id": "5daec63b",
   "metadata": {},
   "outputs": [
    {
     "data": {
      "text/plain": [
       "np.int64(11)"
      ]
     },
     "execution_count": 10,
     "metadata": {},
     "output_type": "execute_result"
    }
   ],
   "source": [
    "df_barrios.duplicated().sum()"
   ]
  },
  {
   "cell_type": "markdown",
   "id": "d9de2975",
   "metadata": {},
   "source": [
    "##### Primeramente, confirmamos las filas duplicadas.\n",
    "##### Podemos observar que, en efecto, tenemos varias filas duplicadas con la misma informacion. "
   ]
  },
  {
   "cell_type": "code",
   "execution_count": 12,
   "id": "389de74d",
   "metadata": {},
   "outputs": [
    {
     "data": {
      "text/html": [
       "<div>\n",
       "<style scoped>\n",
       "    .dataframe tbody tr th:only-of-type {\n",
       "        vertical-align: middle;\n",
       "    }\n",
       "\n",
       "    .dataframe tbody tr th {\n",
       "        vertical-align: top;\n",
       "    }\n",
       "\n",
       "    .dataframe thead th {\n",
       "        text-align: right;\n",
       "    }\n",
       "</style>\n",
       "<table border=\"1\" class=\"dataframe\">\n",
       "  <thead>\n",
       "    <tr style=\"text-align: right;\">\n",
       "      <th></th>\n",
       "      <th>Localidad</th>\n",
       "      <th>UPZ</th>\n",
       "      <th>Barrio</th>\n",
       "    </tr>\n",
       "  </thead>\n",
       "  <tbody>\n",
       "    <tr>\n",
       "      <th>293</th>\n",
       "      <td>San Cristóbal</td>\n",
       "      <td>Los Libertadores</td>\n",
       "      <td>Villa Angélica</td>\n",
       "    </tr>\n",
       "    <tr>\n",
       "      <th>313</th>\n",
       "      <td>San Cristóbal</td>\n",
       "      <td>Los Libertadores</td>\n",
       "      <td>Villa Angélica</td>\n",
       "    </tr>\n",
       "    <tr>\n",
       "      <th>452</th>\n",
       "      <td>Usme</td>\n",
       "      <td>Parque Entrenubes (57)</td>\n",
       "      <td>Bolonia</td>\n",
       "    </tr>\n",
       "    <tr>\n",
       "      <th>453</th>\n",
       "      <td>Usme</td>\n",
       "      <td>Parque Entrenubes (57)</td>\n",
       "      <td>El Bosque Central</td>\n",
       "    </tr>\n",
       "    <tr>\n",
       "      <th>456</th>\n",
       "      <td>Usme</td>\n",
       "      <td>Parque Entrenubes (57)</td>\n",
       "      <td>La Esperanza Sur</td>\n",
       "    </tr>\n",
       "    <tr>\n",
       "      <th>493</th>\n",
       "      <td>Usme</td>\n",
       "      <td>Alfonso López (59)</td>\n",
       "      <td>Portal del Divino</td>\n",
       "    </tr>\n",
       "    <tr>\n",
       "      <th>494</th>\n",
       "      <td>Usme</td>\n",
       "      <td>Alfonso López (59)</td>\n",
       "      <td>Portal de la Vega</td>\n",
       "    </tr>\n",
       "    <tr>\n",
       "      <th>495</th>\n",
       "      <td>Usme</td>\n",
       "      <td>Alfonso López (59)</td>\n",
       "      <td>Portal de Oriente</td>\n",
       "    </tr>\n",
       "    <tr>\n",
       "      <th>497</th>\n",
       "      <td>Usme</td>\n",
       "      <td>Alfonso López (59)</td>\n",
       "      <td>El Nuevo Portal II</td>\n",
       "    </tr>\n",
       "    <tr>\n",
       "      <th>521</th>\n",
       "      <td>Usme</td>\n",
       "      <td>La Flora (52)</td>\n",
       "      <td>San German</td>\n",
       "    </tr>\n",
       "    <tr>\n",
       "      <th>524</th>\n",
       "      <td>Usme</td>\n",
       "      <td>Parque Entrenubes (57)</td>\n",
       "      <td>Bolonia</td>\n",
       "    </tr>\n",
       "    <tr>\n",
       "      <th>526</th>\n",
       "      <td>Usme</td>\n",
       "      <td>Parque Entrenubes (57)</td>\n",
       "      <td>La Esperanza Sur</td>\n",
       "    </tr>\n",
       "    <tr>\n",
       "      <th>531</th>\n",
       "      <td>Usme</td>\n",
       "      <td>UPR Rural</td>\n",
       "      <td>Fisgá</td>\n",
       "    </tr>\n",
       "    <tr>\n",
       "      <th>533</th>\n",
       "      <td>Usme</td>\n",
       "      <td>UPR Rural</td>\n",
       "      <td>Olarte</td>\n",
       "    </tr>\n",
       "    <tr>\n",
       "      <th>537</th>\n",
       "      <td>Usme</td>\n",
       "      <td>Alfonso López (59)</td>\n",
       "      <td>El Nuevo Portal II</td>\n",
       "    </tr>\n",
       "    <tr>\n",
       "      <th>541</th>\n",
       "      <td>Usme</td>\n",
       "      <td>Alfonso López (59)</td>\n",
       "      <td>Portal del Divino</td>\n",
       "    </tr>\n",
       "    <tr>\n",
       "      <th>542</th>\n",
       "      <td>Usme</td>\n",
       "      <td>Alfonso López (59)</td>\n",
       "      <td>Portal de la Vega</td>\n",
       "    </tr>\n",
       "    <tr>\n",
       "      <th>543</th>\n",
       "      <td>Usme</td>\n",
       "      <td>Alfonso López (59)</td>\n",
       "      <td>Portal de Oriente</td>\n",
       "    </tr>\n",
       "    <tr>\n",
       "      <th>576</th>\n",
       "      <td>Usme</td>\n",
       "      <td>La Flora (52)</td>\n",
       "      <td>San German</td>\n",
       "    </tr>\n",
       "    <tr>\n",
       "      <th>577</th>\n",
       "      <td>Usme</td>\n",
       "      <td>Parque Entrenubes (57)</td>\n",
       "      <td>El Bosque Central</td>\n",
       "    </tr>\n",
       "    <tr>\n",
       "      <th>586</th>\n",
       "      <td>Usme</td>\n",
       "      <td>UPR Rural</td>\n",
       "      <td>Olarte</td>\n",
       "    </tr>\n",
       "    <tr>\n",
       "      <th>587</th>\n",
       "      <td>Usme</td>\n",
       "      <td>UPR Rural</td>\n",
       "      <td>Fisgá</td>\n",
       "    </tr>\n",
       "  </tbody>\n",
       "</table>\n",
       "</div>"
      ],
      "text/plain": [
       "         Localidad                     UPZ              Barrio\n",
       "293  San Cristóbal        Los Libertadores      Villa Angélica\n",
       "313  San Cristóbal        Los Libertadores      Villa Angélica\n",
       "452           Usme  Parque Entrenubes (57)             Bolonia\n",
       "453           Usme  Parque Entrenubes (57)   El Bosque Central\n",
       "456           Usme  Parque Entrenubes (57)    La Esperanza Sur\n",
       "493           Usme      Alfonso López (59)   Portal del Divino\n",
       "494           Usme      Alfonso López (59)   Portal de la Vega\n",
       "495           Usme      Alfonso López (59)   Portal de Oriente\n",
       "497           Usme      Alfonso López (59)  El Nuevo Portal II\n",
       "521           Usme           La Flora (52)          San German\n",
       "524           Usme  Parque Entrenubes (57)             Bolonia\n",
       "526           Usme  Parque Entrenubes (57)    La Esperanza Sur\n",
       "531           Usme               UPR Rural               Fisgá\n",
       "533           Usme               UPR Rural              Olarte\n",
       "537           Usme      Alfonso López (59)  El Nuevo Portal II\n",
       "541           Usme      Alfonso López (59)   Portal del Divino\n",
       "542           Usme      Alfonso López (59)   Portal de la Vega\n",
       "543           Usme      Alfonso López (59)   Portal de Oriente\n",
       "576           Usme           La Flora (52)          San German\n",
       "577           Usme  Parque Entrenubes (57)   El Bosque Central\n",
       "586           Usme               UPR Rural              Olarte\n",
       "587           Usme               UPR Rural               Fisgá"
      ]
     },
     "execution_count": 12,
     "metadata": {},
     "output_type": "execute_result"
    }
   ],
   "source": [
    "duplicados = df_barrios[df_barrios.duplicated(keep=False)]\n",
    "duplicados"
   ]
  },
  {
   "cell_type": "markdown",
   "id": "5cfb54f5",
   "metadata": {},
   "source": [
    "##### Procedemos a eliminar esos duplicados, ya que contienen exactamente la misma informacion."
   ]
  },
  {
   "cell_type": "code",
   "execution_count": 13,
   "id": "67914379",
   "metadata": {},
   "outputs": [],
   "source": [
    "df_sin_duplicados = df_barrios.drop_duplicates()"
   ]
  },
  {
   "cell_type": "markdown",
   "id": "30c31278",
   "metadata": {},
   "source": [
    "##### Confirmamos que los duplicados ya no esten ahi."
   ]
  },
  {
   "cell_type": "code",
   "execution_count": 14,
   "id": "b9132964",
   "metadata": {},
   "outputs": [
    {
     "data": {
      "text/plain": [
       "np.int64(0)"
      ]
     },
     "execution_count": 14,
     "metadata": {},
     "output_type": "execute_result"
    }
   ],
   "source": [
    "df_sin_duplicados.duplicated().sum()"
   ]
  }
 ],
 "metadata": {
  "kernelspec": {
   "display_name": "base",
   "language": "python",
   "name": "python3"
  },
  "language_info": {
   "codemirror_mode": {
    "name": "ipython",
    "version": 3
   },
   "file_extension": ".py",
   "mimetype": "text/x-python",
   "name": "python",
   "nbconvert_exporter": "python",
   "pygments_lexer": "ipython3",
   "version": "3.13.5"
  }
 },
 "nbformat": 4,
 "nbformat_minor": 5
}
